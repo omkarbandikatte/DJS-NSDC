{
 "cells": [
  {
   "cell_type": "code",
   "execution_count": 1,
   "id": "aa17bbf9",
   "metadata": {},
   "outputs": [],
   "source": [
    "emoji_text= {   'a': '😀', 'b': '😃', 'c': '😄', 'd': '😁', 'e': '😆',\n",
    "    'f': '😅', 'g': '😂', 'h': '🤣', 'i': '😊', 'j': '😇',\n",
    "    'k': '🙂', 'l': '🙃', 'm': '😉', 'n': '😌', 'o': '😍',\n",
    "    'p': '🥰', 'q': '😘', 'r': '😗', 's': '😙', 't': '😚',\n",
    "    'u': '😋', 'v': '😛', 'w': '😜', 'x': '🤪', 'y': '😝',\n",
    "    'z': '🤑', ' ': '🧗🏼‍♂️', '.': '⚫', ',': '⚪',\n",
    "    'A': '👶', 'B': '👧', 'C': '👵', 'D': '🕵️', 'E': '👰‍♂️',\n",
    "    'F': '🤵‍♂️', 'G': '🫀', 'H': '🫁', 'I': '🧠', 'J': '🦷',\n",
    "    'K': '🦴', 'L': '👀', 'M': '👁', 'N': '👅', 'O': '👄',\n",
    "    'P': '🧟‍♀️', 'Q': '🧑‍🎄', 'R': '👩‍🦽', 'S': '🌂', 'T': '🕶',\n",
    "    'U': '🧣', 'V': '🧤', 'W': '👋🏻', 'X': '💇🏻‍♂️', 'Y': '🚣🏻‍♂️',\n",
    "    'Z': '💃🏻', '1': '🏋🏻', '2': '👩🏼‍🎓', '3': '👩🏼‍🎤', '4': '🧑🏼‍🏫', '5': '👩🏼‍💻',\n",
    "    '6': '🧑🏼‍✈️', '7': '🦹🏼‍♂️', '8': '👼🏼', '9': '🙇🏼', '0': '🧎🏼‍➡️',' ':'😰'}\n",
    "reverse_emoji_text = {v: k for k, v in emoji_text.items()}"
   ]
  },
  {
   "cell_type": "code",
   "execution_count": 2,
   "id": "4229ff86",
   "metadata": {},
   "outputs": [],
   "source": [
    "def encrypt_message(message):\n",
    "    encrypted_message=\"\"\n",
    "    for char in message:\n",
    "        if char in emoji_text:\n",
    "            encrypted_message+=emoji_text[char]\n",
    "        else:\n",
    "            encrypted_message+=char\n",
    "    return encrypted_message"
   ]
  },
  {
   "cell_type": "code",
   "execution_count": 3,
   "id": "7312ad67",
   "metadata": {},
   "outputs": [],
   "source": [
    "def decrypt_message(encrypted_message):\n",
    "    decrypted_message=\"\"\n",
    "    for char in encrypted_message:\n",
    "        if char in reverse_emoji_text:\n",
    "            decrypted_message+=reverse_emoji_text[char]\n",
    "        else:\n",
    "            decrypted_message+=char\n",
    "    return decrypted_message"
   ]
  },
  {
   "cell_type": "code",
   "execution_count": 6,
   "id": "9947fe09",
   "metadata": {},
   "outputs": [
    {
     "name": "stdout",
     "output_type": "stream",
     "text": [
      "Press e for encryption , d for decription and q for Quiting the programq\n",
      "Program is Finished\n"
     ]
    }
   ],
   "source": [
    "def main():\n",
    "    while True:\n",
    "        choice=input(\"Press e for encryption , d for decription and q for Quiting the program\")\n",
    "        if choice=='e':\n",
    "            text=input(\"Enter the Message:- \")\n",
    "            encrypted_message=encrypt_message(text)\n",
    "            print(\"Encrypted:- {}\".format(encrypted_message))\n",
    "            break\n",
    "        elif choice=='d':\n",
    "            emoji=input(\"Enter the message to decrypt\")\n",
    "            decrypted_message=decrypt_message(emoji)\n",
    "            print(\"Decrypted:- {}\".format(decrypted_message))\n",
    "            break\n",
    "        elif choice=='q':\n",
    "            print(\"Program is Finished\")\n",
    "            break\n",
    "        else:\n",
    "            print(\"Please enter the Valid Message\")\n",
    "main()"
   ]
  },
  {
   "cell_type": "code",
   "execution_count": null,
   "id": "41df9d90",
   "metadata": {},
   "outputs": [],
   "source": []
  }
 ],
 "metadata": {
  "kernelspec": {
   "display_name": "Python 3 (ipykernel)",
   "language": "python",
   "name": "python3"
  },
  "language_info": {
   "codemirror_mode": {
    "name": "ipython",
    "version": 3
   },
   "file_extension": ".py",
   "mimetype": "text/x-python",
   "name": "python",
   "nbconvert_exporter": "python",
   "pygments_lexer": "ipython3",
   "version": "3.11.5"
  }
 },
 "nbformat": 4,
 "nbformat_minor": 5
}
